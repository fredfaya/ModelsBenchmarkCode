{
 "cells": [
  {
   "cell_type": "markdown",
   "source": [
    "# Lecture du fichier de donnes"
   ],
   "metadata": {
    "collapsed": false
   }
  },
  {
   "cell_type": "code",
   "execution_count": 2,
   "metadata": {
    "collapsed": true
   },
   "outputs": [],
   "source": [
    "# importation des librairies\n",
    "import pandas as pd\n",
    "import numpy as np\n",
    "import matplotlib.pyplot as plt\n",
    "import seaborn as sns\n",
    "import os\n",
    "# On a remplacer from pandas_profiling par from ydata_profiling\n",
    "from ydata_profiling import ProfileReport\n",
    "from pandas._libs import OutOfBoundsDatetime"
   ]
  },
  {
   "cell_type": "code",
   "execution_count": 56,
   "outputs": [],
   "source": [
    "# Lecture du fichier de données\n",
    "\n",
    "data = pd.read_csv('Files/mouvements_comptables.txt', sep='|')"
   ],
   "metadata": {
    "collapsed": false
   }
  },
  {
   "cell_type": "code",
   "execution_count": 57,
   "outputs": [
    {
     "data": {
      "text/plain": "                      numero_compte                        lib_etendu  bilan   \n0  ebd12c14b29d5e3c9c0785ea41787292  41ce64b36b9cfe92670dcdfa7ad4ca9b  21110  \\\n1  ebd12c14b29d5e3c9c0785ea41787292  fdbb71769ecf00d5778f657271bc9d9b  21110   \n2  ebd12c14b29d5e3c9c0785ea41787292  ce2bf864bfcd82b4bf01120c79d7ba46  21110   \n3  b9a371e2aa5b4a9a9801b639896db549  1fd98623f4623649bac0dd8c65ec49ce  21110   \n4  a45c978dca989f17c7c8bb2cada9514f  234f3006bad9b99df4e4d08556484dc9  21110   \n\n       dt_val      dt_ope  montant_signe signe  extourne  cpt_anal   \n0  2022-01-28  2022-02-01          -99.0     -       1.0       NaN  \\\n1  2022-01-31  2022-02-01         -200.0     -       NaN       NaN   \n2  2022-02-02  2022-02-01         1900.0     +       1.0       NaN   \n3  2022-01-28  2022-02-01        -1000.0     -       1.0       NaN   \n4  2022-01-28  2022-02-01        -2700.0     -       1.0       NaN   \n\n    dt_tresor   dt_compta type_compta                          num_oper   \n0  2022-02-01  2022-02-01           C  405834e2defca25e09dc43bb35baa8a9  \\\n1         NaN  2022-02-01         NaN  6c9af0676f860469c7c1789f13c33bbf   \n2  2022-02-01  2022-02-01           C                               NaN   \n3         NaN  2022-02-01           C  514a4b4d706abd42b192b9fa761894b6   \n4         NaN  2022-02-01           C  ee3965f79a51f6aa2c2e6821fde47b99   \n\n  cd_user cd_visa                   time  \n0     NaN     NaN  2022-02-02 00:00:00.0  \n1     NaN     NaN  2022-02-02 00:00:00.0  \n2     NaN     NaN  2022-02-02 00:00:00.0  \n3     NaN     NaN  2022-02-02 00:00:00.0  \n4     NaN     NaN  2022-02-02 00:00:00.0  ",
      "text/html": "<div>\n<style scoped>\n    .dataframe tbody tr th:only-of-type {\n        vertical-align: middle;\n    }\n\n    .dataframe tbody tr th {\n        vertical-align: top;\n    }\n\n    .dataframe thead th {\n        text-align: right;\n    }\n</style>\n<table border=\"1\" class=\"dataframe\">\n  <thead>\n    <tr style=\"text-align: right;\">\n      <th></th>\n      <th>numero_compte</th>\n      <th>lib_etendu</th>\n      <th>bilan</th>\n      <th>dt_val</th>\n      <th>dt_ope</th>\n      <th>montant_signe</th>\n      <th>signe</th>\n      <th>extourne</th>\n      <th>cpt_anal</th>\n      <th>dt_tresor</th>\n      <th>dt_compta</th>\n      <th>type_compta</th>\n      <th>num_oper</th>\n      <th>cd_user</th>\n      <th>cd_visa</th>\n      <th>time</th>\n    </tr>\n  </thead>\n  <tbody>\n    <tr>\n      <th>0</th>\n      <td>ebd12c14b29d5e3c9c0785ea41787292</td>\n      <td>41ce64b36b9cfe92670dcdfa7ad4ca9b</td>\n      <td>21110</td>\n      <td>2022-01-28</td>\n      <td>2022-02-01</td>\n      <td>-99.0</td>\n      <td>-</td>\n      <td>1.0</td>\n      <td>NaN</td>\n      <td>2022-02-01</td>\n      <td>2022-02-01</td>\n      <td>C</td>\n      <td>405834e2defca25e09dc43bb35baa8a9</td>\n      <td>NaN</td>\n      <td>NaN</td>\n      <td>2022-02-02 00:00:00.0</td>\n    </tr>\n    <tr>\n      <th>1</th>\n      <td>ebd12c14b29d5e3c9c0785ea41787292</td>\n      <td>fdbb71769ecf00d5778f657271bc9d9b</td>\n      <td>21110</td>\n      <td>2022-01-31</td>\n      <td>2022-02-01</td>\n      <td>-200.0</td>\n      <td>-</td>\n      <td>NaN</td>\n      <td>NaN</td>\n      <td>NaN</td>\n      <td>2022-02-01</td>\n      <td>NaN</td>\n      <td>6c9af0676f860469c7c1789f13c33bbf</td>\n      <td>NaN</td>\n      <td>NaN</td>\n      <td>2022-02-02 00:00:00.0</td>\n    </tr>\n    <tr>\n      <th>2</th>\n      <td>ebd12c14b29d5e3c9c0785ea41787292</td>\n      <td>ce2bf864bfcd82b4bf01120c79d7ba46</td>\n      <td>21110</td>\n      <td>2022-02-02</td>\n      <td>2022-02-01</td>\n      <td>1900.0</td>\n      <td>+</td>\n      <td>1.0</td>\n      <td>NaN</td>\n      <td>2022-02-01</td>\n      <td>2022-02-01</td>\n      <td>C</td>\n      <td>NaN</td>\n      <td>NaN</td>\n      <td>NaN</td>\n      <td>2022-02-02 00:00:00.0</td>\n    </tr>\n    <tr>\n      <th>3</th>\n      <td>b9a371e2aa5b4a9a9801b639896db549</td>\n      <td>1fd98623f4623649bac0dd8c65ec49ce</td>\n      <td>21110</td>\n      <td>2022-01-28</td>\n      <td>2022-02-01</td>\n      <td>-1000.0</td>\n      <td>-</td>\n      <td>1.0</td>\n      <td>NaN</td>\n      <td>NaN</td>\n      <td>2022-02-01</td>\n      <td>C</td>\n      <td>514a4b4d706abd42b192b9fa761894b6</td>\n      <td>NaN</td>\n      <td>NaN</td>\n      <td>2022-02-02 00:00:00.0</td>\n    </tr>\n    <tr>\n      <th>4</th>\n      <td>a45c978dca989f17c7c8bb2cada9514f</td>\n      <td>234f3006bad9b99df4e4d08556484dc9</td>\n      <td>21110</td>\n      <td>2022-01-28</td>\n      <td>2022-02-01</td>\n      <td>-2700.0</td>\n      <td>-</td>\n      <td>1.0</td>\n      <td>NaN</td>\n      <td>NaN</td>\n      <td>2022-02-01</td>\n      <td>C</td>\n      <td>ee3965f79a51f6aa2c2e6821fde47b99</td>\n      <td>NaN</td>\n      <td>NaN</td>\n      <td>2022-02-02 00:00:00.0</td>\n    </tr>\n  </tbody>\n</table>\n</div>"
     },
     "execution_count": 57,
     "metadata": {},
     "output_type": "execute_result"
    }
   ],
   "source": [
    "# Affichage des 5 premières lignes\n",
    "\n",
    "data.head()"
   ],
   "metadata": {
    "collapsed": false
   }
  },
  {
   "cell_type": "markdown",
   "source": [
    "# On va commencer l'exploration des donnees"
   ],
   "metadata": {
    "collapsed": false
   }
  },
  {
   "cell_type": "code",
   "execution_count": 6,
   "outputs": [
    {
     "data": {
      "text/plain": "Summarize dataset:   0%|          | 0/5 [00:00<?, ?it/s]",
      "application/vnd.jupyter.widget-view+json": {
       "version_major": 2,
       "version_minor": 0,
       "model_id": "2326797b90f046e7b6c2e0fa53a1f526"
      }
     },
     "metadata": {},
     "output_type": "display_data"
    },
    {
     "data": {
      "text/plain": "Generate report structure:   0%|          | 0/1 [00:00<?, ?it/s]",
      "application/vnd.jupyter.widget-view+json": {
       "version_major": 2,
       "version_minor": 0,
       "model_id": "82edd26932cc470aad76da2c62426f67"
      }
     },
     "metadata": {},
     "output_type": "display_data"
    },
    {
     "data": {
      "text/plain": "Render HTML:   0%|          | 0/1 [00:00<?, ?it/s]",
      "application/vnd.jupyter.widget-view+json": {
       "version_major": 2,
       "version_minor": 0,
       "model_id": "a2bf4b4aee184df48dde413f45fc18fd"
      }
     },
     "metadata": {},
     "output_type": "display_data"
    },
    {
     "data": {
      "text/plain": "Export report to file:   0%|          | 0/1 [00:00<?, ?it/s]",
      "application/vnd.jupyter.widget-view+json": {
       "version_major": 2,
       "version_minor": 0,
       "model_id": "99efbbf89c9f4fe2951d55df45193c0b"
      }
     },
     "metadata": {},
     "output_type": "display_data"
    }
   ],
   "source": [
    "# On va utiliser pandas_profiling pour avoir un aperçu des données\n",
    "\n",
    "profile = ProfileReport(data, title='Pandas Profiling Report', html={'style':{'full_width':True}})\n",
    "# Enregistrer le rapport au format HTML\n",
    "profile.to_file(\"Outputs/data_report.html\")"
   ],
   "metadata": {
    "collapsed": false
   }
  },
  {
   "cell_type": "markdown",
   "source": [
    "# Conclusion :\n",
    "A l'issue de la premiere analyse du rapport, on a 10000 observations dans notre dataset et 16 colonnes.\n",
    "Nous avons 13 colonnes de type ctegoriciel, 2 de type numerique et 1 de type unsupported (il s'agit de la colone cpt_anal qui ne contient que des valeurs nulles).\n",
    "Nous avons egalement 35470 cellules vides et 50 lignes dupliquees dans notre dataset.\n",
    "Nous avons egalement pu obtenir un apercu rapide de la disribution des colonnes de notre dataset.\n",
    "On a egalement des variables qui sont tres corelles, entre autres dt_tresor, cd_user et cd_visa qui sont tres corelles, mais cela est seulement du au fait que ces variables ont enormement de valeurs nulles"
   ],
   "metadata": {
    "collapsed": false
   }
  },
  {
   "cell_type": "code",
   "execution_count": 4,
   "outputs": [
    {
     "data": {
      "text/plain": "              bilan  montant_signe  extourne  cpt_anal\ncount  10000.000000   9.999000e+03    8526.0       0.0\nmean   25683.799900  -4.930480e+02       1.0       NaN\nstd    12702.380978   1.978045e+05       0.0       NaN\nmin    11110.000000  -4.689931e+06       1.0       NaN\n25%    21110.000000  -1.505500e+03       1.0       NaN\n50%    21110.000000  -9.000000e+01       1.0       NaN\n75%    21210.000000   1.000000e+03       1.0       NaN\nmax    89490.000000   8.179528e+06       1.0       NaN",
      "text/html": "<div>\n<style scoped>\n    .dataframe tbody tr th:only-of-type {\n        vertical-align: middle;\n    }\n\n    .dataframe tbody tr th {\n        vertical-align: top;\n    }\n\n    .dataframe thead th {\n        text-align: right;\n    }\n</style>\n<table border=\"1\" class=\"dataframe\">\n  <thead>\n    <tr style=\"text-align: right;\">\n      <th></th>\n      <th>bilan</th>\n      <th>montant_signe</th>\n      <th>extourne</th>\n      <th>cpt_anal</th>\n    </tr>\n  </thead>\n  <tbody>\n    <tr>\n      <th>count</th>\n      <td>10000.000000</td>\n      <td>9.999000e+03</td>\n      <td>8526.0</td>\n      <td>0.0</td>\n    </tr>\n    <tr>\n      <th>mean</th>\n      <td>25683.799900</td>\n      <td>-4.930480e+02</td>\n      <td>1.0</td>\n      <td>NaN</td>\n    </tr>\n    <tr>\n      <th>std</th>\n      <td>12702.380978</td>\n      <td>1.978045e+05</td>\n      <td>0.0</td>\n      <td>NaN</td>\n    </tr>\n    <tr>\n      <th>min</th>\n      <td>11110.000000</td>\n      <td>-4.689931e+06</td>\n      <td>1.0</td>\n      <td>NaN</td>\n    </tr>\n    <tr>\n      <th>25%</th>\n      <td>21110.000000</td>\n      <td>-1.505500e+03</td>\n      <td>1.0</td>\n      <td>NaN</td>\n    </tr>\n    <tr>\n      <th>50%</th>\n      <td>21110.000000</td>\n      <td>-9.000000e+01</td>\n      <td>1.0</td>\n      <td>NaN</td>\n    </tr>\n    <tr>\n      <th>75%</th>\n      <td>21210.000000</td>\n      <td>1.000000e+03</td>\n      <td>1.0</td>\n      <td>NaN</td>\n    </tr>\n    <tr>\n      <th>max</th>\n      <td>89490.000000</td>\n      <td>8.179528e+06</td>\n      <td>1.0</td>\n      <td>NaN</td>\n    </tr>\n  </tbody>\n</table>\n</div>"
     },
     "execution_count": 4,
     "metadata": {},
     "output_type": "execute_result"
    }
   ],
   "source": [
    "data.describe()"
   ],
   "metadata": {
    "collapsed": false
   }
  },
  {
   "cell_type": "code",
   "execution_count": 12,
   "outputs": [
    {
     "name": "stdout",
     "output_type": "stream",
     "text": [
      "<class 'pandas.core.frame.DataFrame'>\n",
      "RangeIndex: 10000 entries, 0 to 9999\n",
      "Data columns (total 16 columns):\n",
      " #   Column         Non-Null Count  Dtype  \n",
      "---  ------         --------------  -----  \n",
      " 0   numero_compte  10000 non-null  object \n",
      " 1   lib_etendu     9999 non-null   object \n",
      " 2   bilan          10000 non-null  int64  \n",
      " 3   dt_val         9986 non-null   object \n",
      " 4   dt_ope         9999 non-null   object \n",
      " 5   montant_signe  9999 non-null   float64\n",
      " 6   signe          9999 non-null   object \n",
      " 7   extourne       8526 non-null   float64\n",
      " 8   cpt_anal       0 non-null      float64\n",
      " 9   dt_tresor      5521 non-null   object \n",
      " 10  dt_compta      9999 non-null   object \n",
      " 11  type_compta    8495 non-null   object \n",
      " 12  num_oper       8599 non-null   object \n",
      " 13  cd_user        2674 non-null   object \n",
      " 14  cd_visa        734 non-null    object \n",
      " 15  time           10000 non-null  object \n",
      "dtypes: float64(3), int64(1), object(12)\n",
      "memory usage: 1.2+ MB\n"
     ]
    }
   ],
   "source": [
    "data.info()"
   ],
   "metadata": {
    "collapsed": false
   }
  },
  {
   "cell_type": "code",
   "execution_count": 6,
   "outputs": [
    {
     "data": {
      "text/plain": "numero_compte\nc507b3ee99facefc0aaa42e5b40fe9ab    129\n77d1c7cdb8262110ad7ec1b24f56195f     77\n021a9a2d47e6e317191634fb783ec9a3     63\nbc05265db32bc80f81520b91c1f6545f     58\n6f93a70908558a8abbec920dabc3e29b     57\n                                   ... \n66bb2bc5a622f158be5f89291552117c      1\nfb59b527f94cecbffd7366d3b3076fe3      1\n70a9f44b18d59250385f44222b868c7e      1\n36d78f9bdc3d27c7b97281fb60291ed7      1\n35c169d786f4ecbe7e4d72a09b64bb51      1\nName: count, Length: 5125, dtype: int64"
     },
     "execution_count": 6,
     "metadata": {},
     "output_type": "execute_result"
    }
   ],
   "source": [
    "# On va etudier la colonne numero de compte\n",
    "\n",
    "data['numero_compte'].value_counts()"
   ],
   "metadata": {
    "collapsed": false
   }
  },
  {
   "cell_type": "markdown",
   "source": [
    "On a 5125 numero de compte different dans notre dataset dont certains se repetent plusieurs fois."
   ],
   "metadata": {
    "collapsed": false
   }
  },
  {
   "cell_type": "code",
   "execution_count": 20,
   "outputs": [
    {
     "data": {
      "text/plain": "lib_etendu\nf63c78b6318dce39f42161d6c56df3e5    551\nfdbb71769ecf00d5778f657271bc9d9b    260\n5f9d3ba91a169b3787845d22e2600c4a    196\na5bff291014832114aa89d40ee8be7e2    169\ndc264c7cb3824c5a0ae86d0caa1042e1    139\n                                   ... \n6878ea83474a018b7258489918021ceb      1\n5e3e78d9a6263b25ff9eec3625b39eba      1\na0458a07b5bac49a85c65251adb9e5e8      1\n17933eaa7a81a0a750223b41a6e46e5d      1\nfeb34656f4f2399b5eb36094f71ed0dd      1\nName: count, Length: 5271, dtype: int64"
     },
     "execution_count": 20,
     "metadata": {},
     "output_type": "execute_result"
    }
   ],
   "source": [
    "# On va etudier la colonne libelle\n",
    "\n",
    "data['lib_etendu'].value_counts()"
   ],
   "metadata": {
    "collapsed": false
   }
  },
  {
   "cell_type": "code",
   "execution_count": 21,
   "outputs": [
    {
     "data": {
      "text/plain": "1"
     },
     "execution_count": 21,
     "metadata": {},
     "output_type": "execute_result"
    }
   ],
   "source": [
    "data.lib_etendu.isnull().sum()"
   ],
   "metadata": {
    "collapsed": false
   }
  },
  {
   "cell_type": "code",
   "execution_count": 27,
   "outputs": [
    {
     "data": {
      "text/plain": "                         numero_compte lib_etendu  bilan dt_val dt_ope   \n9199  5c01e4e913a1ba29ed1c2569e4373553        NaN  21110    NaN    NaN  \\\n\n      montant_signe signe  extourne  cpt_anal dt_tresor dt_compta type_compta   \n9199            NaN   NaN       NaN       NaN       NaN       NaN         NaN  \\\n\n     num_oper cd_user cd_visa                   time  \n9199      NaN     NaN     NaN  2022-02-02 00:00:00.0  ",
      "text/html": "<div>\n<style scoped>\n    .dataframe tbody tr th:only-of-type {\n        vertical-align: middle;\n    }\n\n    .dataframe tbody tr th {\n        vertical-align: top;\n    }\n\n    .dataframe thead th {\n        text-align: right;\n    }\n</style>\n<table border=\"1\" class=\"dataframe\">\n  <thead>\n    <tr style=\"text-align: right;\">\n      <th></th>\n      <th>numero_compte</th>\n      <th>lib_etendu</th>\n      <th>bilan</th>\n      <th>dt_val</th>\n      <th>dt_ope</th>\n      <th>montant_signe</th>\n      <th>signe</th>\n      <th>extourne</th>\n      <th>cpt_anal</th>\n      <th>dt_tresor</th>\n      <th>dt_compta</th>\n      <th>type_compta</th>\n      <th>num_oper</th>\n      <th>cd_user</th>\n      <th>cd_visa</th>\n      <th>time</th>\n    </tr>\n  </thead>\n  <tbody>\n    <tr>\n      <th>9199</th>\n      <td>5c01e4e913a1ba29ed1c2569e4373553</td>\n      <td>NaN</td>\n      <td>21110</td>\n      <td>NaN</td>\n      <td>NaN</td>\n      <td>NaN</td>\n      <td>NaN</td>\n      <td>NaN</td>\n      <td>NaN</td>\n      <td>NaN</td>\n      <td>NaN</td>\n      <td>NaN</td>\n      <td>NaN</td>\n      <td>NaN</td>\n      <td>NaN</td>\n      <td>2022-02-02 00:00:00.0</td>\n    </tr>\n  </tbody>\n</table>\n</div>"
     },
     "execution_count": 27,
     "metadata": {},
     "output_type": "execute_result"
    }
   ],
   "source": [
    "# On va voir la ligne qui contient la valeur nulle\n",
    "data[data.lib_etendu.isnull()]"
   ],
   "metadata": {
    "collapsed": false
   }
  },
  {
   "cell_type": "code",
   "execution_count": 7,
   "outputs": [
    {
     "data": {
      "text/plain": "                         numero_compte                        lib_etendu   \n9199  5c01e4e913a1ba29ed1c2569e4373553                               NaN  \\\n9200  5c01e4e913a1ba29ed1c2569e4373553  9b168d19d3633aeff57ad22a0b79cbbf   \n9201  5c01e4e913a1ba29ed1c2569e4373553  f63c78b6318dce39f42161d6c56df3e5   \n\n      bilan      dt_val      dt_ope  montant_signe signe  extourne   \n9199  21110         NaN         NaN            NaN   NaN       NaN  \\\n9200  21110  2022-02-01  2022-02-01        1049.00     +       1.0   \n9201  21110  2022-01-31  2022-02-01       -1470.22     -       NaN   \n\n       dt_tresor   dt_compta type_compta                          num_oper   \n9199         NaN         NaN         NaN                               NaN  \\\n9200  2022-02-01  2022-02-01           C  8a3022ebea48b9cd08b6c6a4d75ea85a   \n9201         NaN  2022-02-01         NaN  ef71a23f44ae162a64d68e77e2474198   \n\n     cd_user cd_visa                   time  \n9199     NaN     NaN  2022-02-02 00:00:00.0  \n9200     NaN     NaN  2022-02-02 00:00:00.0  \n9201     NaN     NaN  2022-02-02 00:00:00.0  ",
      "text/html": "<div>\n<style scoped>\n    .dataframe tbody tr th:only-of-type {\n        vertical-align: middle;\n    }\n\n    .dataframe tbody tr th {\n        vertical-align: top;\n    }\n\n    .dataframe thead th {\n        text-align: right;\n    }\n</style>\n<table border=\"1\" class=\"dataframe\">\n  <thead>\n    <tr style=\"text-align: right;\">\n      <th></th>\n      <th>numero_compte</th>\n      <th>lib_etendu</th>\n      <th>bilan</th>\n      <th>dt_val</th>\n      <th>dt_ope</th>\n      <th>montant_signe</th>\n      <th>signe</th>\n      <th>extourne</th>\n      <th>dt_tresor</th>\n      <th>dt_compta</th>\n      <th>type_compta</th>\n      <th>num_oper</th>\n      <th>cd_user</th>\n      <th>cd_visa</th>\n      <th>time</th>\n    </tr>\n  </thead>\n  <tbody>\n    <tr>\n      <th>9199</th>\n      <td>5c01e4e913a1ba29ed1c2569e4373553</td>\n      <td>NaN</td>\n      <td>21110</td>\n      <td>NaN</td>\n      <td>NaN</td>\n      <td>NaN</td>\n      <td>NaN</td>\n      <td>NaN</td>\n      <td>NaN</td>\n      <td>NaN</td>\n      <td>NaN</td>\n      <td>NaN</td>\n      <td>NaN</td>\n      <td>NaN</td>\n      <td>2022-02-02 00:00:00.0</td>\n    </tr>\n    <tr>\n      <th>9200</th>\n      <td>5c01e4e913a1ba29ed1c2569e4373553</td>\n      <td>9b168d19d3633aeff57ad22a0b79cbbf</td>\n      <td>21110</td>\n      <td>2022-02-01</td>\n      <td>2022-02-01</td>\n      <td>1049.00</td>\n      <td>+</td>\n      <td>1.0</td>\n      <td>2022-02-01</td>\n      <td>2022-02-01</td>\n      <td>C</td>\n      <td>8a3022ebea48b9cd08b6c6a4d75ea85a</td>\n      <td>NaN</td>\n      <td>NaN</td>\n      <td>2022-02-02 00:00:00.0</td>\n    </tr>\n    <tr>\n      <th>9201</th>\n      <td>5c01e4e913a1ba29ed1c2569e4373553</td>\n      <td>f63c78b6318dce39f42161d6c56df3e5</td>\n      <td>21110</td>\n      <td>2022-01-31</td>\n      <td>2022-02-01</td>\n      <td>-1470.22</td>\n      <td>-</td>\n      <td>NaN</td>\n      <td>NaN</td>\n      <td>2022-02-01</td>\n      <td>NaN</td>\n      <td>ef71a23f44ae162a64d68e77e2474198</td>\n      <td>NaN</td>\n      <td>NaN</td>\n      <td>2022-02-02 00:00:00.0</td>\n    </tr>\n  </tbody>\n</table>\n</div>"
     },
     "execution_count": 7,
     "metadata": {},
     "output_type": "execute_result"
    }
   ],
   "source": [
    "# Voyons le nombre de transactions effectuees par la personne qui a le numero de compte\n",
    "\n",
    "data[data.numero_compte == '5c01e4e913a1ba29ed1c2569e4373553']"
   ],
   "metadata": {
    "collapsed": false
   }
  },
  {
   "cell_type": "code",
   "execution_count": 58,
   "outputs": [],
   "source": [
    "# On va remplacer le lib_etendu NAN par unknown\n",
    "\n",
    "data['lib_etendu'].fillna('unknown', inplace=True)"
   ],
   "metadata": {
    "collapsed": false
   }
  },
  {
   "cell_type": "code",
   "execution_count": 10,
   "outputs": [
    {
     "data": {
      "text/plain": "bilan\n21110    5951\n21210    1167\n47110     538\n21140     332\n44212     317\n         ... \n21433       1\n89412       1\n89490       1\n21446       1\n46113       1\nName: count, Length: 80, dtype: int64"
     },
     "execution_count": 10,
     "metadata": {},
     "output_type": "execute_result"
    }
   ],
   "source": [
    "# On va etudier la colonne bilan\n",
    "\n",
    "data['bilan'].value_counts()"
   ],
   "metadata": {
    "collapsed": false
   }
  },
  {
   "cell_type": "code",
   "execution_count": 11,
   "outputs": [
    {
     "data": {
      "text/plain": "0"
     },
     "execution_count": 11,
     "metadata": {},
     "output_type": "execute_result"
    }
   ],
   "source": [
    "# Nombre de valeurs nulles dans la colonne bilan\n",
    "\n",
    "data.bilan.isnull().sum()"
   ],
   "metadata": {
    "collapsed": false
   }
  },
  {
   "cell_type": "code",
   "execution_count": 12,
   "outputs": [
    {
     "data": {
      "text/plain": "dt_val\n2022-02-01    3147\n2022-01-31    2432\n2022-01-28    1845\n2022-02-02    1732\n2022-02-16      76\n              ... \n0353-03-31       1\n5547-09-06       1\n5546-01-05       1\n5548-09-19       1\n0284-02-29       1\nName: count, Length: 451, dtype: int64"
     },
     "execution_count": 12,
     "metadata": {},
     "output_type": "execute_result"
    }
   ],
   "source": [
    "# On va s'interesser a la colonne dt_val\n",
    "\n",
    "data['dt_val'].value_counts()"
   ],
   "metadata": {
    "collapsed": false
   }
  },
  {
   "cell_type": "code",
   "execution_count": 34,
   "outputs": [
    {
     "data": {
      "text/plain": "14"
     },
     "execution_count": 34,
     "metadata": {},
     "output_type": "execute_result"
    }
   ],
   "source": [
    "# nombre de valeurs manquantes dans la colonne dt_val\n",
    "data.dt_val.isnull().sum()"
   ],
   "metadata": {
    "collapsed": false
   }
  },
  {
   "cell_type": "markdown",
   "source": [
    "Conclusion :\n",
    "On remarque qu'on a quelques valeurs nulles dans la colonne dt_val, mais qu'on a aussi des dates dont la plage depasse celle autorisee qui va du 1er janvier 1978 au 31 decembre 2262. On va donc remplacer toutes les dates qui sont hors de ces limites par le 1er janvier 1978. Puis remplacer les dates nulles par la date qui les precede"
   ],
   "metadata": {
    "collapsed": false
   }
  },
  {
   "cell_type": "code",
   "execution_count": 20,
   "outputs": [
    {
     "data": {
      "text/plain": "                         numero_compte                        lib_etendu   \n994   77d1c7cdb8262110ad7ec1b24f56195f  e46f6c29f9c170baf9fbcc0d2255b422  \\\n995   77d1c7cdb8262110ad7ec1b24f56195f  2f70df074ad10784ad91e2494d799451   \n996   77d1c7cdb8262110ad7ec1b24f56195f  1d92d261efdc6c51da47ee4c3f5ce51b   \n998   77d1c7cdb8262110ad7ec1b24f56195f  c857737224ddc2ae29fe32f98a51420c   \n999   77d1c7cdb8262110ad7ec1b24f56195f  0c5dde10055af6f3726ab005e4f1ed2a   \n1600  0499067504948469b356fbe74e08d6d9  83f9c7bc5ab33c8a6c9a61a7cdeb57cf   \n1601  0499067504948469b356fbe74e08d6d9  0c5dde10055af6f3726ab005e4f1ed2a   \n3254  c507b3ee99facefc0aaa42e5b40fe9ab  0c5dde10055af6f3726ab005e4f1ed2a   \n4120  6f93a70908558a8abbec920dabc3e29b  83f9c7bc5ab33c8a6c9a61a7cdeb57cf   \n4125  6f93a70908558a8abbec920dabc3e29b  0c5dde10055af6f3726ab005e4f1ed2a   \n5263  2964c143f717d9b26d4a9bde68b143b9  0c5dde10055af6f3726ab005e4f1ed2a   \n6412  35604a4ecff5b4c8af905451c17a7fbe  0c5dde10055af6f3726ab005e4f1ed2a   \n8748  021a9a2d47e6e317191634fb783ec9a3  0c5dde10055af6f3726ab005e4f1ed2a   \n9199  5c01e4e913a1ba29ed1c2569e4373553                           unknown   \n\n      bilan dt_val  montant_signe signe   dt_tresor   \n994   47110    NaN         152.55     +         NaN  \\\n995   47110    NaN        1500.00     +  2022-02-01   \n996   47110    NaN         163.31     +  2022-02-01   \n998   47110    NaN           0.50     +  2022-02-01   \n999   47110    NaN     5351219.71     +  2022-01-31   \n1600  47110    NaN         572.48     +         NaN   \n1601  47110    NaN     8179527.61     +  2022-01-31   \n3254  47110    NaN    -3045953.35     -  2022-01-31   \n4120  47110    NaN         572.48     +         NaN   \n4125  47110    NaN      735215.99     +  2022-01-31   \n5263  47110    NaN     1667557.87     +  2022-01-31   \n6412  47110    NaN      656049.87     +  2022-01-31   \n8748  47110    NaN     -800253.49     -  2022-01-31   \n9199  21110    NaN            NaN   NaN         NaN   \n\n                              num_oper cd_user cd_visa  \n994                                NaN     NaN     NaN  \n995   4ea543c9c9d17d90acd60b58cf877ebf     NaN     NaN  \n996   4ea543c9c9d17d90acd60b58cf877ebf     NaN     NaN  \n998   4ea543c9c9d17d90acd60b58cf877ebf     NaN     NaN  \n999                                NaN     NaN     NaN  \n1600                               NaN     NaN     NaN  \n1601                               NaN     NaN     NaN  \n3254                               NaN     NaN     NaN  \n4120                               NaN     NaN     NaN  \n4125                               NaN     NaN     NaN  \n5263                               NaN     NaN     NaN  \n6412                               NaN     NaN     NaN  \n8748                               NaN     NaN     NaN  \n9199                               NaN     NaN     NaN  ",
      "text/html": "<div>\n<style scoped>\n    .dataframe tbody tr th:only-of-type {\n        vertical-align: middle;\n    }\n\n    .dataframe tbody tr th {\n        vertical-align: top;\n    }\n\n    .dataframe thead th {\n        text-align: right;\n    }\n</style>\n<table border=\"1\" class=\"dataframe\">\n  <thead>\n    <tr style=\"text-align: right;\">\n      <th></th>\n      <th>numero_compte</th>\n      <th>lib_etendu</th>\n      <th>bilan</th>\n      <th>dt_val</th>\n      <th>montant_signe</th>\n      <th>signe</th>\n      <th>dt_tresor</th>\n      <th>num_oper</th>\n      <th>cd_user</th>\n      <th>cd_visa</th>\n    </tr>\n  </thead>\n  <tbody>\n    <tr>\n      <th>994</th>\n      <td>77d1c7cdb8262110ad7ec1b24f56195f</td>\n      <td>e46f6c29f9c170baf9fbcc0d2255b422</td>\n      <td>47110</td>\n      <td>NaN</td>\n      <td>152.55</td>\n      <td>+</td>\n      <td>NaN</td>\n      <td>NaN</td>\n      <td>NaN</td>\n      <td>NaN</td>\n    </tr>\n    <tr>\n      <th>995</th>\n      <td>77d1c7cdb8262110ad7ec1b24f56195f</td>\n      <td>2f70df074ad10784ad91e2494d799451</td>\n      <td>47110</td>\n      <td>NaN</td>\n      <td>1500.00</td>\n      <td>+</td>\n      <td>2022-02-01</td>\n      <td>4ea543c9c9d17d90acd60b58cf877ebf</td>\n      <td>NaN</td>\n      <td>NaN</td>\n    </tr>\n    <tr>\n      <th>996</th>\n      <td>77d1c7cdb8262110ad7ec1b24f56195f</td>\n      <td>1d92d261efdc6c51da47ee4c3f5ce51b</td>\n      <td>47110</td>\n      <td>NaN</td>\n      <td>163.31</td>\n      <td>+</td>\n      <td>2022-02-01</td>\n      <td>4ea543c9c9d17d90acd60b58cf877ebf</td>\n      <td>NaN</td>\n      <td>NaN</td>\n    </tr>\n    <tr>\n      <th>998</th>\n      <td>77d1c7cdb8262110ad7ec1b24f56195f</td>\n      <td>c857737224ddc2ae29fe32f98a51420c</td>\n      <td>47110</td>\n      <td>NaN</td>\n      <td>0.50</td>\n      <td>+</td>\n      <td>2022-02-01</td>\n      <td>4ea543c9c9d17d90acd60b58cf877ebf</td>\n      <td>NaN</td>\n      <td>NaN</td>\n    </tr>\n    <tr>\n      <th>999</th>\n      <td>77d1c7cdb8262110ad7ec1b24f56195f</td>\n      <td>0c5dde10055af6f3726ab005e4f1ed2a</td>\n      <td>47110</td>\n      <td>NaN</td>\n      <td>5351219.71</td>\n      <td>+</td>\n      <td>2022-01-31</td>\n      <td>NaN</td>\n      <td>NaN</td>\n      <td>NaN</td>\n    </tr>\n    <tr>\n      <th>1600</th>\n      <td>0499067504948469b356fbe74e08d6d9</td>\n      <td>83f9c7bc5ab33c8a6c9a61a7cdeb57cf</td>\n      <td>47110</td>\n      <td>NaN</td>\n      <td>572.48</td>\n      <td>+</td>\n      <td>NaN</td>\n      <td>NaN</td>\n      <td>NaN</td>\n      <td>NaN</td>\n    </tr>\n    <tr>\n      <th>1601</th>\n      <td>0499067504948469b356fbe74e08d6d9</td>\n      <td>0c5dde10055af6f3726ab005e4f1ed2a</td>\n      <td>47110</td>\n      <td>NaN</td>\n      <td>8179527.61</td>\n      <td>+</td>\n      <td>2022-01-31</td>\n      <td>NaN</td>\n      <td>NaN</td>\n      <td>NaN</td>\n    </tr>\n    <tr>\n      <th>3254</th>\n      <td>c507b3ee99facefc0aaa42e5b40fe9ab</td>\n      <td>0c5dde10055af6f3726ab005e4f1ed2a</td>\n      <td>47110</td>\n      <td>NaN</td>\n      <td>-3045953.35</td>\n      <td>-</td>\n      <td>2022-01-31</td>\n      <td>NaN</td>\n      <td>NaN</td>\n      <td>NaN</td>\n    </tr>\n    <tr>\n      <th>4120</th>\n      <td>6f93a70908558a8abbec920dabc3e29b</td>\n      <td>83f9c7bc5ab33c8a6c9a61a7cdeb57cf</td>\n      <td>47110</td>\n      <td>NaN</td>\n      <td>572.48</td>\n      <td>+</td>\n      <td>NaN</td>\n      <td>NaN</td>\n      <td>NaN</td>\n      <td>NaN</td>\n    </tr>\n    <tr>\n      <th>4125</th>\n      <td>6f93a70908558a8abbec920dabc3e29b</td>\n      <td>0c5dde10055af6f3726ab005e4f1ed2a</td>\n      <td>47110</td>\n      <td>NaN</td>\n      <td>735215.99</td>\n      <td>+</td>\n      <td>2022-01-31</td>\n      <td>NaN</td>\n      <td>NaN</td>\n      <td>NaN</td>\n    </tr>\n    <tr>\n      <th>5263</th>\n      <td>2964c143f717d9b26d4a9bde68b143b9</td>\n      <td>0c5dde10055af6f3726ab005e4f1ed2a</td>\n      <td>47110</td>\n      <td>NaN</td>\n      <td>1667557.87</td>\n      <td>+</td>\n      <td>2022-01-31</td>\n      <td>NaN</td>\n      <td>NaN</td>\n      <td>NaN</td>\n    </tr>\n    <tr>\n      <th>6412</th>\n      <td>35604a4ecff5b4c8af905451c17a7fbe</td>\n      <td>0c5dde10055af6f3726ab005e4f1ed2a</td>\n      <td>47110</td>\n      <td>NaN</td>\n      <td>656049.87</td>\n      <td>+</td>\n      <td>2022-01-31</td>\n      <td>NaN</td>\n      <td>NaN</td>\n      <td>NaN</td>\n    </tr>\n    <tr>\n      <th>8748</th>\n      <td>021a9a2d47e6e317191634fb783ec9a3</td>\n      <td>0c5dde10055af6f3726ab005e4f1ed2a</td>\n      <td>47110</td>\n      <td>NaN</td>\n      <td>-800253.49</td>\n      <td>-</td>\n      <td>2022-01-31</td>\n      <td>NaN</td>\n      <td>NaN</td>\n      <td>NaN</td>\n    </tr>\n    <tr>\n      <th>9199</th>\n      <td>5c01e4e913a1ba29ed1c2569e4373553</td>\n      <td>unknown</td>\n      <td>21110</td>\n      <td>NaN</td>\n      <td>NaN</td>\n      <td>NaN</td>\n      <td>NaN</td>\n      <td>NaN</td>\n      <td>NaN</td>\n      <td>NaN</td>\n    </tr>\n  </tbody>\n</table>\n</div>"
     },
     "execution_count": 20,
     "metadata": {},
     "output_type": "execute_result"
    }
   ],
   "source": [
    "# Afficher les lignes qui ont une date nulle\n",
    "\n",
    "data[data.dt_val.isnull()]"
   ],
   "metadata": {
    "collapsed": false
   }
  },
  {
   "cell_type": "code",
   "execution_count": 15,
   "outputs": [
    {
     "data": {
      "text/plain": "numero_compte\n77d1c7cdb8262110ad7ec1b24f56195f    5\n0499067504948469b356fbe74e08d6d9    2\n6f93a70908558a8abbec920dabc3e29b    2\nc507b3ee99facefc0aaa42e5b40fe9ab    1\n2964c143f717d9b26d4a9bde68b143b9    1\n35604a4ecff5b4c8af905451c17a7fbe    1\n021a9a2d47e6e317191634fb783ec9a3    1\n5c01e4e913a1ba29ed1c2569e4373553    1\nName: count, dtype: int64"
     },
     "execution_count": 15,
     "metadata": {},
     "output_type": "execute_result"
    }
   ],
   "source": [
    "data[data.dt_val.isnull()]['numero_compte'].value_counts()"
   ],
   "metadata": {
    "collapsed": false
   }
  },
  {
   "cell_type": "code",
   "execution_count": 59,
   "outputs": [],
   "source": [
    "# On va remplacer les dates nulles par la date qui les precede\n",
    "\n",
    "data['dt_val'].fillna(method='ffill', inplace=True)"
   ],
   "metadata": {
    "collapsed": false
   }
  },
  {
   "cell_type": "code",
   "execution_count": 60,
   "outputs": [],
   "source": [
    "# On va rempplacer les dates qui ne sont pas entre 2020 et 2023 par le 1er Janvier 2024\n",
    "from datetime import datetime\n",
    "\n",
    "date_str = \"2024-01-01\"\n",
    "format_str = \"%Y-%m-%d\"\n",
    "data['dt_val'] = data['dt_val'].apply(lambda x: date_str if x < '01/01/2020' or x > '31/12/2023' else x)"
   ],
   "metadata": {
    "collapsed": false
   }
  },
  {
   "cell_type": "code",
   "execution_count": 61,
   "outputs": [
    {
     "data": {
      "text/plain": "dt_val\n2022-02-01    3148\n2022-01-31    2432\n2022-01-28    1846\n2022-02-02    1732\n2024-01-01     400\n              ... \n0200-03-01       1\n1007-02-28       1\n0256-09-30       1\n0514-08-31       1\n0284-02-29       1\nName: count, Length: 135, dtype: int64"
     },
     "execution_count": 61,
     "metadata": {},
     "output_type": "execute_result"
    }
   ],
   "source": [
    "data['dt_val'].value_counts()"
   ],
   "metadata": {
    "collapsed": false
   }
  },
  {
   "cell_type": "code",
   "execution_count": 62,
   "outputs": [],
   "source": [
    "# On va remplacer toutes les dates qui ne sont pas de l'annee 2022 par le 1er Janvier 2024\n",
    "\n",
    "data['dt_val'] = data['dt_val'].apply(lambda x: datetime.strptime(date_str, format_str) if datetime.strptime(x, format_str).year != 2022 else x)"
   ],
   "metadata": {
    "collapsed": false
   }
  },
  {
   "cell_type": "code",
   "execution_count": 67,
   "outputs": [],
   "source": [
    "# On va creer un colonne qui represente la difference en nombre de jours entre la colonne dt_val et dt_ope\n",
    "\n",
    "data['diff_ope_val'] = (pd.to_datetime(data['dt_ope']) - pd.to_datetime(data['dt_val'])).dt.days"
   ],
   "metadata": {
    "collapsed": false
   }
  },
  {
   "cell_type": "code",
   "execution_count": 68,
   "outputs": [
    {
     "data": {
      "text/plain": "diff_ope_val\n 0.0      3148\n 1.0      2432\n 4.0      1845\n-1.0      1732\n-699.0     552\n-15.0       76\n 5.0        59\n 2.0        53\n 3.0        36\n-3.0        25\n 31.0       10\n 6.0         9\n 15.0        7\n 26.0        4\n-2.0         4\n 7.0         3\n 9.0         2\n-14.0        1\n 8.0         1\nName: count, dtype: int64"
     },
     "execution_count": 68,
     "metadata": {},
     "output_type": "execute_result"
    }
   ],
   "source": [
    "data['diff_ope_val'].value_counts()"
   ],
   "metadata": {
    "collapsed": false
   }
  },
  {
   "cell_type": "code",
   "execution_count": 69,
   "outputs": [
    {
     "data": {
      "text/plain": "dt_tresor\n2022-02-01    5455\n2022-01-31      66\nName: count, dtype: int64"
     },
     "execution_count": 69,
     "metadata": {},
     "output_type": "execute_result"
    }
   ],
   "source": [
    "# On va etudier la colonne dt_tresor\n",
    "\n",
    "data['dt_tresor'].value_counts()"
   ],
   "metadata": {
    "collapsed": false
   }
  },
  {
   "cell_type": "code",
   "execution_count": 70,
   "outputs": [
    {
     "data": {
      "text/plain": "4479"
     },
     "execution_count": 70,
     "metadata": {},
     "output_type": "execute_result"
    }
   ],
   "source": [
    "# Valeurs nulles dans la colonne dt_tresor\n",
    "\n",
    "data.dt_tresor.isnull().sum()"
   ],
   "metadata": {
    "collapsed": false
   }
  },
  {
   "cell_type": "code",
   "execution_count": 71,
   "outputs": [
    {
     "data": {
      "text/plain": "num_oper\n33b740d576137674827e2107defdabe5    80\n4ea543c9c9d17d90acd60b58cf877ebf    70\n6b9dc969c1826a6ac3b52b53aef6ac16    12\nf9ef806ecad58a628a68d8363c6e4837    12\n414ac732be573e116062657474189e1f    11\n                                    ..\n54e271543ad2da7e6b67ee2173f912b9     1\nbf4654d19ac164fd6c105105186c4a6e     1\n8fd082f0c6fe2f078c89764b0004175d     1\n116934cf4e39d76b0b13ab30fe97fcc3     1\n14723d8b9a77ae0816b4943aa30bc8fe     1\nName: count, Length: 7751, dtype: int64"
     },
     "execution_count": 71,
     "metadata": {},
     "output_type": "execute_result"
    }
   ],
   "source": [
    "# On va etudier la colonne num_oper\n",
    "\n",
    "data['num_oper'].value_counts()"
   ],
   "metadata": {
    "collapsed": false
   }
  },
  {
   "cell_type": "code",
   "execution_count": 72,
   "outputs": [
    {
     "data": {
      "text/plain": "1401"
     },
     "execution_count": 72,
     "metadata": {},
     "output_type": "execute_result"
    }
   ],
   "source": [
    "# Nombre de valeures nulles dans la colonne num_oper\n",
    "\n",
    "data.num_oper.isnull().sum()"
   ],
   "metadata": {
    "collapsed": false
   }
  },
  {
   "cell_type": "code",
   "execution_count": 73,
   "outputs": [],
   "source": [
    "# On va remplacer les valeurs nulles dans la colonne num_oper par unknown\n",
    "\n",
    "data['num_oper'].fillna('unknown', inplace=True)"
   ],
   "metadata": {
    "collapsed": false
   }
  },
  {
   "cell_type": "code",
   "execution_count": 74,
   "outputs": [
    {
     "data": {
      "text/plain": "cd_user\n0346dc62eabe7a286bc2078850f06e76    519\nf30f89aa344c312bd57bab8cc4a405f7    300\n40c3846eac12f4696f2fdecd8ded0ee6    158\n1ea352c2bd519e32e5ccf69e49898ca1    145\n31e65299aa7f89cde760d5320f4ec1e6    143\nbf8034a86c2eb3dd4d46dbc3330cf0ac    111\n6c76dc5f5e0cd1f3ef07e9c1aff67837    110\n98d6e6e2aac5ece115b222576619947f     93\n5db7f6e1eed86658db53be6457059ac6     93\n1d202445bd84e80678582ac28fbb46e6     90\ne52352200d1828a8633816002778b9e5     79\n899bfaa3587fd21f7f5445c5df05c6fc     79\nc6226cab28e09b51aaab8c1071cd6790     76\n6cfa0d55103cbf703390f15687c022b2     67\nf6d068743d0ed6c85e58565a334bdde2     62\ndb36569c92ef37d31ffd032f094a8e27     58\n8ee297eb54d847dcec04e03ac33013bf     53\n1502bea97dc156e842d6a2a3fcefd9b3     52\n73f4b91f9d8c3307c4b08df190a2138d     51\ne796ea3f333d4732ccbf8c0cb05f87b2     50\ne2a47310a7a53ff0196a5fc2b5eaae3d     50\n60f7ed215938b6f2872e8f911e1c5844     46\n6c9ef2063f2724a1c107d99cf0b25091     45\n80388e81bba3d1703c3d0353a766dad4     42\n858f6ac21a3fbe3a1a7fbf5cc565e621     25\n66b3c4471795a5527c5faa319096c9ed     21\n03f8e8436282c26415a6318162e3b19e     14\n716e40954dd6035190f5a2b9285ef3d2      7\neab919b2fcd5714371a186590ad2fa0b      6\n2342499d5c6861aec4addd3c3d24a9ec      4\n8ab0b016bbaa54c0ced1687e683521c2      3\na51715db7dd9f3f112f086851e7ae7d4      2\n779a6676f26c07fe120e84c068b83d8c      2\ndb70a69eabc27a6e40805190d14465fa      2\n35808b2f1eddba8397e14cb92ab30913      2\n06fbaaa5f733bf1f6eac49310afdff1b      2\nfd2a4efe69a4def6a615bdce39b0e7d0      2\n918b351578ecddecb1cec712fe024229      1\n74845e5f959a521843c274c92d3ae442      1\n28102905291e9b79f6ee7858d474c25e      1\n70ae36519588e87dc600354642974646      1\n38f9db63c48eb9408129da964961873c      1\nc7da3412bdf06dc20d9acaec04f04228      1\n8a870234fe8538dadf538287d0aa313c      1\na5d1b5bf80098ab3de52286496efb620      1\n45756545fe66a82da1709cfe4b6b821c      1\na37c61fa99dce728159ad97e73d73dbf      1\nName: count, dtype: int64"
     },
     "execution_count": 74,
     "metadata": {},
     "output_type": "execute_result"
    }
   ],
   "source": [
    "# On va etudier la colonne cd_user\n",
    "\n",
    "data['cd_user'].value_counts()"
   ],
   "metadata": {
    "collapsed": false
   }
  },
  {
   "cell_type": "code",
   "execution_count": 75,
   "outputs": [
    {
     "data": {
      "text/plain": "7326"
     },
     "execution_count": 75,
     "metadata": {},
     "output_type": "execute_result"
    }
   ],
   "source": [
    "# Nombre de valeurs nulles dans la colonne cd_user\n",
    "\n",
    "data.cd_user.isnull().sum()"
   ],
   "metadata": {
    "collapsed": false
   }
  },
  {
   "cell_type": "code",
   "execution_count": 76,
   "outputs": [
    {
     "data": {
      "text/plain": "cd_visa\nf30f89aa344c312bd57bab8cc4a405f7    300\n31e65299aa7f89cde760d5320f4ec1e6    143\n8a870234fe8538dadf538287d0aa313c     46\n907f9180432dd9ca74d6d8ab0105ebc1     40\n716e40954dd6035190f5a2b9285ef3d2     34\nfd2a4efe69a4def6a615bdce39b0e7d0     22\n28102905291e9b79f6ee7858d474c25e     22\n03f8e8436282c26415a6318162e3b19e     22\n66b3c4471795a5527c5faa319096c9ed     21\n8ab0b016bbaa54c0ced1687e683521c2     17\nbf941157511fb0e364510c014670cda9     11\nc2a458d4fd78b85807d1ae4347999410      7\n2342499d5c6861aec4addd3c3d24a9ec      7\n656f0a452b15173a4208e628efc385b5      6\n98d6e6e2aac5ece115b222576619947f      6\n179f12d330bd75a2a191a1a27d416bc7      4\n22b8d6696635356d5a91373559cf07fb      2\n35808b2f1eddba8397e14cb92ab30913      2\n34a5421af41446097ade5032d5bc7c28      2\n700e15e8a37a0bf7e2be49b9c4078825      2\ne2a47310a7a53ff0196a5fc2b5eaae3d      2\n779a6676f26c07fe120e84c068b83d8c      2\ne201f5c05116f04cd265e68919263c70      2\n5d69a8f1b300b5ebdc8154ba0a206895      2\n06fbaaa5f733bf1f6eac49310afdff1b      2\n40c3846eac12f4696f2fdecd8ded0ee6      1\n918b351578ecddecb1cec712fe024229      1\n99a3c4c6d46d7ba5a37a81d03be17c52      1\n38f9db63c48eb9408129da964961873c      1\ne52352200d1828a8633816002778b9e5      1\n8c69473005b562686455a72ee88e5eca      1\nc6226cab28e09b51aaab8c1071cd6790      1\n70ae36519588e87dc600354642974646      1\nName: count, dtype: int64"
     },
     "execution_count": 76,
     "metadata": {},
     "output_type": "execute_result"
    }
   ],
   "source": [
    "# On va etudier cd_visa\n",
    "\n",
    "data['cd_visa'].value_counts()"
   ],
   "metadata": {
    "collapsed": false
   }
  },
  {
   "cell_type": "code",
   "execution_count": 77,
   "outputs": [
    {
     "data": {
      "text/plain": "9266"
     },
     "execution_count": 77,
     "metadata": {},
     "output_type": "execute_result"
    }
   ],
   "source": [
    "# Nombre de valeurs nulles dans la colonne cd_visa\n",
    "\n",
    "data.cd_visa.isnull().sum()"
   ],
   "metadata": {
    "collapsed": false
   }
  },
  {
   "cell_type": "markdown",
   "source": [
    "Suppression des colonnes inutiles"
   ],
   "metadata": {
    "collapsed": false
   }
  },
  {
   "cell_type": "code",
   "execution_count": 78,
   "outputs": [],
   "source": [
    "# On va retirer la colonne cpt_anal qui ne contient que des valeurs nulles car elle ne nous sera en aucun cas utile\n",
    "data.drop('cpt_anal', axis=1, inplace=True)\n",
    "\n",
    "# On va supprimmer les colonne dt_ope, extourne, dt_compta, type_compta, time qui ne contiennent que des valeurs uniques\n",
    "data.drop(['dt_val', 'dt_ope', 'extourne', 'dt_compta', 'type_compta', 'dt_tresor', 'cd_user', 'cd_visa', 'time'], axis=1, inplace=True)"
   ],
   "metadata": {
    "collapsed": false
   }
  },
  {
   "cell_type": "code",
   "execution_count": 98,
   "outputs": [
    {
     "data": {
      "text/plain": "   lib_etendu  bilan  montant_signe signe  num_oper  diff_ope_val\n0        1362  21110          -99.0     -      1936           4.0\n1        5224  21110         -200.0     -      3318           1.0\n2        4241  21110         1900.0     +      7751          -1.0\n3         678  21110        -1000.0     -      2447           4.0\n4         753  21110        -2700.0     -      7223           4.0",
      "text/html": "<div>\n<style scoped>\n    .dataframe tbody tr th:only-of-type {\n        vertical-align: middle;\n    }\n\n    .dataframe tbody tr th {\n        vertical-align: top;\n    }\n\n    .dataframe thead th {\n        text-align: right;\n    }\n</style>\n<table border=\"1\" class=\"dataframe\">\n  <thead>\n    <tr style=\"text-align: right;\">\n      <th></th>\n      <th>lib_etendu</th>\n      <th>bilan</th>\n      <th>montant_signe</th>\n      <th>signe</th>\n      <th>num_oper</th>\n      <th>diff_ope_val</th>\n    </tr>\n  </thead>\n  <tbody>\n    <tr>\n      <th>0</th>\n      <td>1362</td>\n      <td>21110</td>\n      <td>-99.0</td>\n      <td>-</td>\n      <td>1936</td>\n      <td>4.0</td>\n    </tr>\n    <tr>\n      <th>1</th>\n      <td>5224</td>\n      <td>21110</td>\n      <td>-200.0</td>\n      <td>-</td>\n      <td>3318</td>\n      <td>1.0</td>\n    </tr>\n    <tr>\n      <th>2</th>\n      <td>4241</td>\n      <td>21110</td>\n      <td>1900.0</td>\n      <td>+</td>\n      <td>7751</td>\n      <td>-1.0</td>\n    </tr>\n    <tr>\n      <th>3</th>\n      <td>678</td>\n      <td>21110</td>\n      <td>-1000.0</td>\n      <td>-</td>\n      <td>2447</td>\n      <td>4.0</td>\n    </tr>\n    <tr>\n      <th>4</th>\n      <td>753</td>\n      <td>21110</td>\n      <td>-2700.0</td>\n      <td>-</td>\n      <td>7223</td>\n      <td>4.0</td>\n    </tr>\n  </tbody>\n</table>\n</div>"
     },
     "execution_count": 98,
     "metadata": {},
     "output_type": "execute_result"
    }
   ],
   "source": [
    "data.head()"
   ],
   "metadata": {
    "collapsed": false
   }
  },
  {
   "cell_type": "code",
   "execution_count": 90,
   "outputs": [
    {
     "data": {
      "text/plain": "lib_etendu       0\nbilan            0\nmontant_signe    1\nsigne            1\nnum_oper         0\ndiff_ope_val     1\ndtype: int64"
     },
     "execution_count": 90,
     "metadata": {},
     "output_type": "execute_result"
    }
   ],
   "source": [
    "# Voyons les colonnes qui ont encore des valeurs nulles\n",
    "\n",
    "data.isnull().sum()"
   ],
   "metadata": {
    "collapsed": false
   }
  },
  {
   "cell_type": "code",
   "execution_count": 100,
   "outputs": [],
   "source": [
    "# On va encoder les colonnes lib_etendu et num_oper, et signe\n",
    "\n",
    "from sklearn.preprocessing import LabelEncoder\n",
    "\n",
    "le = LabelEncoder()\n",
    "data['lib_etendu'] = le.fit_transform(data['lib_etendu'])\n",
    "data['num_oper'] = le.fit_transform(data['num_oper'])"
   ],
   "metadata": {
    "collapsed": false
   }
  },
  {
   "cell_type": "code",
   "execution_count": 3,
   "outputs": [],
   "source": [
    "data = pd.read_csv('Outputs/data.csv')"
   ],
   "metadata": {
    "collapsed": false
   }
  },
  {
   "cell_type": "code",
   "execution_count": 5,
   "outputs": [
    {
     "name": "stdout",
     "output_type": "stream",
     "text": [
      "0\n"
     ]
    }
   ],
   "source": [
    "print(len(data.loc[(data['signe'] == 1) & (data['montant_signe'] > 0)]))"
   ],
   "metadata": {
    "collapsed": false
   }
  },
  {
   "cell_type": "code",
   "execution_count": 6,
   "outputs": [],
   "source": [
    "# remplacer les valeurs nulles de la colonne montant_signe par la valeur la plus frequente\n",
    "\n",
    "data['montant_signe'].fillna(data['montant_signe'].mode()[0], inplace=True)"
   ],
   "metadata": {
    "collapsed": false
   }
  },
  {
   "cell_type": "code",
   "execution_count": 7,
   "outputs": [],
   "source": [
    "# remplacer les valeurs nulles de la colonne diff_ope_val par la valeur la plus frequente\n",
    "\n",
    "data['diff_ope_val'].fillna(data['diff_ope_val'].mode()[0], inplace=True)"
   ],
   "metadata": {
    "collapsed": false
   }
  },
  {
   "cell_type": "code",
   "execution_count": 8,
   "outputs": [],
   "source": [
    "# On va maintenant sauvegarder notre dataset pour l'utiliser pour faire le benchmark\n",
    "\n",
    "data.to_csv('Outputs/data.csv', index=False)"
   ],
   "metadata": {
    "collapsed": false
   }
  },
  {
   "cell_type": "code",
   "execution_count": null,
   "outputs": [],
   "source": [],
   "metadata": {
    "collapsed": false
   }
  }
 ],
 "metadata": {
  "kernelspec": {
   "display_name": "Python 3",
   "language": "python",
   "name": "python3"
  },
  "language_info": {
   "codemirror_mode": {
    "name": "ipython",
    "version": 2
   },
   "file_extension": ".py",
   "mimetype": "text/x-python",
   "name": "python",
   "nbconvert_exporter": "python",
   "pygments_lexer": "ipython2",
   "version": "2.7.6"
  }
 },
 "nbformat": 4,
 "nbformat_minor": 0
}
